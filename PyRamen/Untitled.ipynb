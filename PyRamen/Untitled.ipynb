{
 "cells": [
  {
   "cell_type": "code",
   "execution_count": 2,
   "metadata": {
    "collapsed": true,
    "jupyter": {
     "outputs_hidden": true
    }
   },
   "outputs": [
    {
     "name": "stdout",
     "output_type": "stream",
     "text": [
      "[['2', '01-01-2017', '7437926611570799', '1', 'spicy miso ramen'], ['3', '01-01-2017', '8421920068932819', '3', 'tori paitan ramen'], ['4', '01-01-2017', '8421920068932819', '3', 'tori paitan ramen'], ['5', '01-01-2017', '4787310681569648', '1', 'truffle butter ramen'], ['6', '01-01-2017', '4787310681569648', '1', 'truffle butter ramen'], ['7', '01-01-2017', '8252818705821725', '1', 'tonkotsu ramen'], ['8', '01-01-2017', '8252818705821725', '1', 'tonkotsu ramen'], ['9', '01-01-2017', '3119034881407323', '1', 'vegetarian spicy miso'], ['10', '01-01-2017', '3119034881407323', '1', 'vegetarian spicy miso'], ['11', '01-01-2017', '5185620052605569', '1', 'shio ramen'], ['12', '01-01-2017', '5185620052605569', '1', 'shio ramen'], ['13', '01-01-2017', '1625774198697856', '1', 'tori paitan ramen'], ['14', '01-01-2017', '1625774198697856', '1', 'tori paitan ramen'], ['15', '01-01-2017', '505248472056578', '1', 'vegetarian spicy miso'], ['16', '01-01-2017', '505248472056578', '1', 'vegetarian spicy miso'], ['17', '01-01-2017', '5010864392617689', '1', 'spicy miso ramen'], ['18', '01-01-2017', '5010864392617689', '1', 'spicy miso ramen'], ['19', '01-01-2017', '1792739336416381', '2', 'truffle butter ramen'], ['20', '01-01-2017', '1792739336416381', '2', 'truffle butter ramen'], ['21', '01-01-2017', '761559936834947', '2', 'tonkotsu ramen'], ['22', '01-01-2017', '761559936834947', '2', 'tonkotsu ramen'], ['23', '01-01-2017', '9019899875381263', '1', 'truffle butter ramen'], ['24', '01-01-2017', '9019899875381263', '1', 'truffle butter ramen'], ['25', '01-01-2017', '8390952377142813', '2', 'tori paitan ramen'], ['26', '01-01-2017', '8390952377142813', '2', 'tori paitan ramen'], ['27', '01-01-2017', '8413275554809498', '1', 'spicy miso ramen'], ['28', '01-01-2017', '8413275554809498', '1', 'spicy miso ramen'], ['29', '01-01-2017', '9297729736590973', '1', 'vegetarian spicy miso'], ['30', '01-01-2017', '9297729736590973', '1', 'vegetarian spicy miso'], ['31', '01-01-2017', '4842259280240047', '1', 'vegetarian spicy miso'], ['32', '01-01-2017', '4842259280240047', '1', 'vegetarian spicy miso'], ['33', '01-01-2017', '6233521625518921', '4', 'tonkotsu ramen'], ['34', '01-01-2017', '6233521625518921', '4', 'tonkotsu ramen'], ['35', '01-01-2017', '2641214109762946', '4', 'miso crab ramen'], ['36', '01-01-2017', '2641214109762946', '4', 'miso crab ramen'], ['37', '01-01-2017', '9499629855503509', '1', 'miso crab ramen'], ['38', '01-01-2017', '9499629855503509', '1', 'miso crab ramen'], ['39', '01-01-2017', '5567347994803336', '1', 'nagomi shoyu'], ['40', '01-01-2017', '5567347994803336', '1', 'nagomi shoyu'], ['41', '01-01-2017', '2210478832955280', '1', 'truffle butter ramen'], ['42', '01-01-2017', '2210478832955280', '1', 'truffle butter ramen'], ['43', '01-01-2017', '6129806465248355', '1', 'tori paitan ramen'], ['44', '01-01-2017', '6129806465248355', '1', 'tori paitan ramen'], ['45', '01-01-2017', '4567545741772660', '1', 'truffle butter ramen'], ['46', '01-01-2017', '4567545741772660', '1', 'truffle butter ramen'], ['47', '01-01-2017', '8666977854387557', '1', 'vegetarian spicy miso'], ['48', '01-01-2017', '8666977854387557', '1', 'vegetarian spicy miso'], ['49', '01-01-2017', '9447156482236957', '1', 'soft-shell miso crab ramen'], ['50', '01-01-2017', '9447156482236957', '1', 'soft-shell miso crab ramen']]\n"
     ]
    }
   ],
   "source": [
    "# @TODO: Import libraries\n",
    "import csv\n",
    "from pathlib import Path\n",
    "\n",
    "# @TODO: Set file paths for menu_data.csv and sales_data.csv\n",
    "menu_filepath = Path('Resources/menu_data.csv') \n",
    "sales_filepath = Path('Resources/sales_data.csv')\n",
    "\n",
    "# @TODO: Initialize list objects to hold our menu and sales data\n",
    "menu = []\n",
    "sales = []\n",
    "\n",
    "# @TODO: Read in the menu data into the menu list\n",
    "\n",
    "with open(menu_filepath, 'r') as csvfile:\n",
    "    # print(csvfile)\n",
    "    \n",
    "    csv_reader = csv.reader(csvfile, delimiter = ',')\n",
    "    header_menu = next(csv_reader)\n",
    "    \n",
    "    # print(f\"{header} <- this is the header\" )\n",
    "    \n",
    "    for row in csv_reader:\n",
    "        menu.append(row)\n",
    "        \n",
    "with open(sales_filepath, 'r') as csvfile:\n",
    "    # print(csvfile)\n",
    "    \n",
    "    csv_reader = csv.reader(csvfile, delimiter = ',')\n",
    "    header_sales = next(csv_reader)\n",
    "    \n",
    "    # print(f\"{header} <- this is the header\" )\n",
    "    \n",
    "    for row in csv_reader:\n",
    "        sales.append(row)\n",
    "\n",
    "# print(header_menu, menu[0])\n",
    "# ['Line_Item_ID', 'Date', 'Credit_Card_Number', 'Quantity', 'Menu_Item']\n",
    "# print(header_sales, sales[0])\n",
    "# ['item', 'category', 'description', 'price', 'cost']\n",
    "print(sales[1:50])"
   ]
  },
  {
   "cell_type": "code",
   "execution_count": 5,
   "metadata": {},
   "outputs": [],
   "source": [
    "# @TODO: Initialize dict object to hold our key-value pairs of items and metrics\n",
    "report = {}\n",
    "\n",
    "# Initialize a row counter variable\n",
    "row_count = 0\n",
    "\n",
    "for sale in sales:\n",
    "    \n",
    "    quanity = row[3]\n",
    "    menu_item = row[4]\n",
    "\n",
    "    if menu_item != report:\n",
    "        report[menu_item] = {\"01-count\": 0, \"02-revenue\": 0, \"03-cogs\": 0, \"04-profit\": 0}\n",
    "\n",
    "        "
   ]
  },
  {
   "cell_type": "code",
   "execution_count": 6,
   "metadata": {},
   "outputs": [
    {
     "name": "stdout",
     "output_type": "stream",
     "text": [
      "{'spicy miso ramen': {'01-count': 0, '02-revenue': 0, '03-cogs': 0, '04-profit': 0}}\n"
     ]
    }
   ],
   "source": [
    "print(report)"
   ]
  },
  {
   "cell_type": "code",
   "execution_count": null,
   "metadata": {},
   "outputs": [],
   "source": []
  }
 ],
 "metadata": {
  "kernelspec": {
   "display_name": "Python 3",
   "language": "python",
   "name": "python3"
  },
  "language_info": {
   "codemirror_mode": {
    "name": "ipython",
    "version": 3
   },
   "file_extension": ".py",
   "mimetype": "text/x-python",
   "name": "python",
   "nbconvert_exporter": "python",
   "pygments_lexer": "ipython3",
   "version": "3.7.3"
  }
 },
 "nbformat": 4,
 "nbformat_minor": 4
}
