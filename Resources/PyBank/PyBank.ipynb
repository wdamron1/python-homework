{
 "cells": [
  {
   "cell_type": "code",
   "execution_count": 1,
   "metadata": {
    "collapsed": true,
    "jupyter": {
     "outputs_hidden": true
    }
   },
   "outputs": [
    {
     "data": {
      "text/plain": [
       "'\\'\\'\\nYour task is to create a Python script that analyzes the records to calculate each of the following:\\n\\nThe total number of months included in the dataset.\\n    Seems like a += loop counter with count.\\n\\nThe net total amount of Profit/Losses over the entire period.\\n    Sum up an entier column.\\n\\nThe average of the changes in Profit/Losses over the entire period.\\n    Told in class that this is the sum of the changes.\\n    Calculate the change. Add up all the changes. Probably a loop.\\n    \\nThe greatest increase in profits (date and amount) over the entire period.\\n    The greatest increase will be the greatest change (delta). Calculated from above. \\n    Use the change to identify the date and amount.\\n    \\nThe greatest decrease in losses (date and amount) over the entire period.\\n    Same as above. \\n    \\nYour resulting analysis should look similar to the following:\\n\\n  Financial Analysis\\n  ----------------------------\\n  Total Months: 86\\n  Total: $38382578\\n  Average  Change: $-2315.12\\n  Greatest Increase in Profits: Feb-2012 ($1926159)\\n  Greatest Decrease in Profits: Sep-2013 ($-2196167)\\nYour final script should print the analysis to the terminal and export a text file with the results.\\n\\nprint(f\"Financial Analysis\")\\nprint(f\"----------------------------\")\\nprint(f\"Total Months: \")\\nprint(f\"Total: $\")\\nprint(f\"Average Change: $\")\\nprint(f\"Greatest Increase in Profits:\")\\nprint(f\"Greatest Decrease in Profits:\")\\n'"
      ]
     },
     "execution_count": 1,
     "metadata": {},
     "output_type": "execute_result"
    }
   ],
   "source": [
    "'''''\n",
    "Your task is to create a Python script that analyzes the records to calculate each of the following:\n",
    "\n",
    "The total number of months included in the dataset.\n",
    "    Seems like a += loop counter with count.\n",
    "\n",
    "The net total amount of Profit/Losses over the entire period.\n",
    "    Sum up an entier column.\n",
    "\n",
    "The average of the changes in Profit/Losses over the entire period.\n",
    "    Told in class that this is the sum of the changes.\n",
    "    Calculate the change. Add up all the changes. Probably a loop.\n",
    "    \n",
    "The greatest increase in profits (date and amount) over the entire period.\n",
    "    The greatest increase will be the greatest change (delta). Calculated from above. \n",
    "    Use the change to identify the date and amount.\n",
    "    \n",
    "The greatest decrease in losses (date and amount) over the entire period.\n",
    "    Same as above. \n",
    "    \n",
    "Your resulting analysis should look similar to the following:\n",
    "\n",
    "  Financial Analysis\n",
    "  ----------------------------\n",
    "  Total Months: 86\n",
    "  Total: $38382578\n",
    "  Average  Change: $-2315.12\n",
    "  Greatest Increase in Profits: Feb-2012 ($1926159)\n",
    "  Greatest Decrease in Profits: Sep-2013 ($-2196167)\n",
    "Your final script should print the analysis to the terminal and export a text file with the results.\n",
    "\n",
    "print(f\"Financial Analysis\")\n",
    "print(f\"----------------------------\")\n",
    "print(f\"Total Months: \")\n",
    "print(f\"Total: $\")\n",
    "print(f\"Average Change: $\")\n",
    "print(f\"Greatest Increase in Profits:\")\n",
    "print(f\"Greatest Decrease in Profits:\")\n",
    "'''''"
   ]
  },
  {
   "cell_type": "code",
   "execution_count": null,
   "metadata": {},
   "outputs": [],
   "source": []
  }
 ],
 "metadata": {
  "kernelspec": {
   "display_name": "Python 3",
   "language": "python",
   "name": "python3"
  },
  "language_info": {
   "codemirror_mode": {
    "name": "ipython",
    "version": 3
   },
   "file_extension": ".py",
   "mimetype": "text/x-python",
   "name": "python",
   "nbconvert_exporter": "python",
   "pygments_lexer": "ipython3",
   "version": "3.7.3"
  }
 },
 "nbformat": 4,
 "nbformat_minor": 4
}
